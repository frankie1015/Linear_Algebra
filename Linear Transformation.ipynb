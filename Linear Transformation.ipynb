{
 "cells": [
  {
   "cell_type": "markdown",
   "id": "b8356b3b-2c35-491e-96e6-bc6cb95b2646",
   "metadata": {},
   "source": [
    "FRANCINE YSABELLE BORROMEO"
   ]
  },
  {
   "cell_type": "code",
   "execution_count": 1,
   "id": "19fd80f3-5769-4fde-88d6-550d8ce81a53",
   "metadata": {},
   "outputs": [
    {
     "name": "stdout",
     "output_type": "stream",
     "text": [
      "The determinant of the matrix is: 49\n",
      "\n",
      "Eigenvalues:\n",
      "[16.51088107 -2.09282994 -1.41805113]\n",
      "\n",
      "Eigenvectors:\n",
      "[[-0.2726507  -0.79229412 -0.56823935]\n",
      " [-0.76654219  0.37005334 -0.06657491]\n",
      " [-0.58144188  0.4851088   0.82016573]]\n"
     ]
    }
   ],
   "source": [
    "import random\n",
    "import numpy as np\n",
    "\n",
    "def determinant(matrix):\n",
    "    \"\"\"\n",
    "    Finds the determinant of an n x n matrix using Laplace expansion.\n",
    "\n",
    "    Parameters:\n",
    "    - matrix (list of lists): The input matrix.\n",
    "\n",
    "    Returns:\n",
    "    - determinant (float): The determinant of the matrix.\n",
    "    \"\"\"\n",
    "    size = len(matrix)\n",
    "\n",
    "    # Base case: If the matrix is 1x1, return the only element\n",
    "    if size == 1:\n",
    "        return matrix[0][0]\n",
    "\n",
    "    # Base case: If the matrix is 2x2, return the determinant using the formula\n",
    "    if size == 2:\n",
    "        return matrix[0][0] * matrix[1][1] - matrix[0][1] * matrix[1][0]\n",
    "\n",
    "    det = 0\n",
    "    for col in range(size):\n",
    "        # Calculate the cofactor\n",
    "        cofactor = (-1) ** col * matrix[0][col] * determinant(minor(matrix, 0, col))\n",
    "        det += cofactor\n",
    "\n",
    "    return det\n",
    "\n",
    "def minor(matrix, row, col):\n",
    "    \"\"\"\n",
    "    Returns the minor matrix obtained by removing the specified row and column.\n",
    "\n",
    "    Parameters:\n",
    "    - matrix (list of lists): The input matrix.\n",
    "    - row (int): The row to be removed.\n",
    "    - col (int): The column to be removed.\n",
    "\n",
    "    Returns:\n",
    "    - minor_matrix (list of lists): The minor matrix.\n",
    "    \"\"\"\n",
    "    return [row[:col] + row[col + 1:] for row in (matrix[:row] + matrix[row + 1:])]\n",
    "\n",
    "def eigendecomposition(matrix):\n",
    "    \"\"\"\n",
    "    Finds the eigenvectors and eigenvalues of an n x n matrix.\n",
    "\n",
    "    Parameters:\n",
    "    - matrix (list of lists): The input matrix.\n",
    "\n",
    "    Returns:\n",
    "    - eigenvalues (numpy array): The eigenvalues of the matrix.\n",
    "    - eigenvectors (numpy array): The eigenvectors of the matrix.\n",
    "    \"\"\"\n",
    "    matrix_np = np.array(matrix)\n",
    "    eigenvalues, eigenvectors = np.linalg.eig(matrix_np)\n",
    "    return eigenvalues, eigenvectors\n",
    "\n",
    "if __name__ == \"__main__\":\n",
    "    # Generate a random 3x3 matrix as an example\n",
    "    n = 3\n",
    "    random_matrix = [[random.randint(1, 10) for _ in range(n)] for _ in range(n)]\n",
    "\n",
    "    # Test determinant function\n",
    "    det_result = determinant(random_matrix)\n",
    "    print(f\"The determinant of the matrix is: {det_result}\")\n",
    "\n",
    "    # Test eigendecomposition function\n",
    "    eigenvalues, eigenvectors = eigendecomposition(random_matrix)\n",
    "    print(f\"\\nEigenvalues:\\n{eigenvalues}\")\n",
    "    print(f\"\\nEigenvectors:\\n{eigenvectors}\")\n"
   ]
  },
  {
   "cell_type": "code",
   "execution_count": null,
   "id": "391eedc3-94c4-48ac-bbba-98c7cfc0a485",
   "metadata": {},
   "outputs": [],
   "source": []
  }
 ],
 "metadata": {
  "kernelspec": {
   "display_name": "Python 3 (ipykernel)",
   "language": "python",
   "name": "python3"
  },
  "language_info": {
   "codemirror_mode": {
    "name": "ipython",
    "version": 3
   },
   "file_extension": ".py",
   "mimetype": "text/x-python",
   "name": "python",
   "nbconvert_exporter": "python",
   "pygments_lexer": "ipython3",
   "version": "3.11.5"
  }
 },
 "nbformat": 4,
 "nbformat_minor": 5
}
