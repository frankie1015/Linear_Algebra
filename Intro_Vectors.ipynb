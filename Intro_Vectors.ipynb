{
 "cells": [
  {
   "cell_type": "markdown",
   "id": "3aeb84e7-6430-4946-bc67-c3e1f6eb0808",
   "metadata": {},
   "source": [
    "$1.\\textbf{u} = (1,-2,4) \\textbf{v} = (3,5,1) \\textbf{w} = (2,1,-3)$ <br>\n",
    "$a. 3\\textbf{u}-2\\textbf{v}$<br>\n",
    "$= 3[1,-2,4] - 2[3,5,1]$ <br>\n",
    "$= [3,-6,12] - [6,10,2]$ <br>\n",
    "$= [-3, 16, 10]$\n",
    "\n"
   ]
  },
  {
   "cell_type": "code",
   "execution_count": 16,
   "id": "eba75c9b-3f56-434d-b2ae-26fee177de31",
   "metadata": {},
   "outputs": [
    {
     "name": "stdout",
     "output_type": "stream",
     "text": [
      "3u-2v:  [ -3 -16  10]\n"
     ]
    }
   ],
   "source": [
    "import numpy as np\n",
    "u = np.array([1,-2,4])\n",
    "v = np.array([3,5,1])\n",
    "w = np.array([2,1,-3])\n",
    "print(\"3u-2v: \", (3*u) - (2*v))"
   ]
  },
  {
   "cell_type": "markdown",
   "id": "94779a51-a11a-4e5a-8ff6-b3c24fbc979e",
   "metadata": {},
   "source": [
    "$b. 5 \\textbf{u} + 3 \\textbf{v} - 4 \\textbf{w}$ <br>\n",
    "$= 5[1,-2,4] + 3[3,5,1] - 4[2,1,-3]$ <br>\n",
    "$= [5,-10,20] + [9,15,3] - [8,4,-12]$ <br>\n",
    "$= [6,1,35]$"
   ]
  },
  {
   "cell_type": "code",
   "execution_count": 18,
   "id": "868603c9-5ef9-4b62-9b56-3666019c4fe0",
   "metadata": {},
   "outputs": [
    {
     "name": "stdout",
     "output_type": "stream",
     "text": [
      "5u + 3v - 4w:  [ 6  1 35]\n"
     ]
    }
   ],
   "source": [
    "print(\"5u + 3v - 4w: \", (5*u) + (3*v) - (4*w))"
   ]
  },
  {
   "cell_type": "markdown",
   "id": "5a6c99a3-bc1d-4820-8bf2-5ee17dfb3e8a",
   "metadata": {},
   "source": [
    "$c. u . v, v . w, u . w$<br>\n",
    "$u . v = (1)(3) + (-2)(5) + (4)(1)$ <br>\n",
    "$= 3 - 10 + 4$<br>\n",
    "$= -3$<br>\n",
    "$v . w = (3)(2) + (5)(1) + (1)(-3)$<br>\n",
    "$= 6 + 5 - 3$<br>\n",
    "$= 8$<br>\n",
    "$u . w = (1)(2) + (-2)(1) + (4)(-3)$<br>\n",
    "$= 2 - 2 - 12$<br>\n",
    "$= -12$<br>\n"
   ]
  },
  {
   "cell_type": "code",
   "execution_count": 27,
   "id": "79bd2a64-a35a-4863-a581-a14652f67df1",
   "metadata": {},
   "outputs": [
    {
     "name": "stdout",
     "output_type": "stream",
     "text": [
      "u.v =  -3\n",
      "v.w =  8\n",
      "u.w =  -12\n"
     ]
    }
   ],
   "source": [
    "print(\"u.v = \", u.dot(v))\n",
    "print(\"v.w = \", v.dot(w))\n",
    "print(\"u.w = \", u.dot(w))"
   ]
  },
  {
   "cell_type": "markdown",
   "id": "d4776988-9999-47d3-bc64-64dccea9a09e",
   "metadata": {},
   "source": [
    "$d. ||u||, ||v||, ||w||$ <br>\n",
    "$||u|| = \\sqrt{1^2 + (-2)^2 + 4^2}$ <br>\n",
    "$= \\sqrt{1 + 4 + 16}$ <br>\n",
    "$= \\sqrt{21}$ <br>\n",
    "$||v|| = \\sqrt{3^2 + 5^2 + 1^2}$ <br>\n",
    "$= \\sqrt{9 + 25 + 1}$ <br>\n",
    "$= \\sqrt{35}$ <br>\n",
    "$||w|| = \\sqrt{2^2 + 1^2 + (-3)^2}$<br>\n",
    "$= \\sqrt{4 + 1 + 9}$ <br>\n",
    "$= \\sqrt{14}$ <br>\n",
    "\n"
   ]
  },
  {
   "cell_type": "code",
   "execution_count": 22,
   "id": "08e992bf-df36-4908-83ad-36c1e5b2456a",
   "metadata": {},
   "outputs": [
    {
     "name": "stdout",
     "output_type": "stream",
     "text": [
      "||u|| =  4.58257569495584\n",
      "||v|| =  5.916079783099616\n",
      "||w|| =  3.7416573867739413\n"
     ]
    }
   ],
   "source": [
    "print(\"||u|| = \",np.sqrt(u.dot(u)))\n",
    "print(\"||v|| = \",np.sqrt(v.dot(v)))\n",
    "print(\"||w|| = \",np.sqrt(w.dot(w)))"
   ]
  },
  {
   "cell_type": "markdown",
   "id": "f8c42ca5-8d34-4ebe-9838-a87b3bbd28ea",
   "metadata": {},
   "source": [
    "e. $If {\\theta}$ is the angle between u and v, find $\\cos{\\theta}$  <br>\n",
    "$\\frac{\\textbf{u} \\cdotp \\textbf{v}}{||\\textbf{u}|| \\ ||\\textbf{v}||}$ <br>\n",
    "$= \\frac{-3}{/\\sqrt{21}\\sqrt{35}}$ <br>"
   ]
  },
  {
   "cell_type": "code",
   "execution_count": 28,
   "id": "ab59f7ca-78a8-4186-b087-ad1ab8b757b8",
   "metadata": {},
   "outputs": [
    {
     "name": "stdout",
     "output_type": "stream",
     "text": [
      "angle:  -0.11065666703449763\n"
     ]
    }
   ],
   "source": [
    "print(\"angle: \", u.dot(v) / (np.linalg.norm(u) * np.linalg.norm(v)))"
   ]
  },
  {
   "cell_type": "markdown",
   "id": "fbfb2c70-8239-4eb5-8c11-acd867599ade",
   "metadata": {},
   "source": [
    "f. If $\\alpha$ is the angle between v and w, find $\\cos{\\alpha}$ <br>\n",
    "$\\frac{\\textbf{v} \\cdotp \\textbf{w}}{||\\textbf{v}|| \\ ||\\textbf{w}||}$ <br>\n",
    "$= \\frac{8}{/\\sqrt{35}\\sqrt{14}}$ <br>"
   ]
  },
  {
   "cell_type": "code",
   "execution_count": 29,
   "id": "0612b851-2c83-4efc-80c9-56bb09fcbf9f",
   "metadata": {},
   "outputs": [
    {
     "name": "stdout",
     "output_type": "stream",
     "text": [
      "angle:  0.36140316116210053\n"
     ]
    }
   ],
   "source": [
    "print(\"angle: \", v.dot(w) / (np.linalg.norm(v) * np.linalg.norm(w)))"
   ]
  },
  {
   "cell_type": "markdown",
   "id": "1b893c18-c2df-4728-a2f6-dba1543c2b0f",
   "metadata": {},
   "source": [
    "g. If $\\beta$ is the angle between u and w, find $\\cos{\\beta}$ <br>\n",
    "$\\frac{\\textbf{u} \\cdotp \\textbf{w}}{||\\textbf{u}|| \\ ||\\textbf{w}||}$ <br>\n",
    "$= \\frac{-12}{/\\sqrt{21}\\sqrt{14}}$ <br>"
   ]
  },
  {
   "cell_type": "code",
   "execution_count": 30,
   "id": "69fbc7e5-a9e9-4dbb-98be-bbae0015b5bc",
   "metadata": {},
   "outputs": [
    {
     "name": "stdout",
     "output_type": "stream",
     "text": [
      "angle:  -0.6998542122237653\n"
     ]
    }
   ],
   "source": [
    "print(\"angle: \", u.dot(w) / (np.linalg.norm(u) * np.linalg.norm(w)))"
   ]
  },
  {
   "cell_type": "markdown",
   "id": "11a4b2c7-2594-4b6b-8028-a94aeba86dcf",
   "metadata": {},
   "source": [
    "h. Find $d(u,v)$ <br>\n",
    "$= ||u - v||$ <br>\n",
    "$= \\sqrt{(1-3)^2 + (-2-5)^2 + (4-1)^2}$ <br>\n",
    "$= \\sqrt{(-2)^2 + (-7)^2 + (3)^2}$ <br>\n",
    "$= \\sqrt{4 + 49 + 9}$ <br>\n",
    "$= \\sqrt{62}$"
   ]
  },
  {
   "cell_type": "code",
   "execution_count": 31,
   "id": "c5acf7ba-6e61-4ea6-ac51-bc7cfb6e2b65",
   "metadata": {},
   "outputs": [
    {
     "name": "stdout",
     "output_type": "stream",
     "text": [
      "d(u,v):  7.874007874011811\n"
     ]
    }
   ],
   "source": [
    "print(\"d(u,v): \", np.linalg.norm(u-v))"
   ]
  },
  {
   "cell_type": "markdown",
   "id": "93589258-5a1a-4302-963f-079638108f8c",
   "metadata": {},
   "source": [
    "i. Find $d(w,v)$ <br>\n",
    "$= ||w - v||$ <br>\n",
    "$= \\sqrt{(2-3)^2 + (1-5)^2 + (-3-1)^2}$ <br>\n",
    "$= \\sqrt{(-1)^2 + (-4)^2 + (-4)^2}$ <br>\n",
    "$= \\sqrt{1 + 16 + 16}$ <br>\n",
    "$= \\sqrt{33}$"
   ]
  },
  {
   "cell_type": "code",
   "execution_count": null,
   "id": "2241f416-99ae-4cc1-b603-08a693a6528e",
   "metadata": {},
   "outputs": [],
   "source": [
    "print(\"d(w,v): \", np.linalg.norm(w-v))"
   ]
  },
  {
   "cell_type": "markdown",
   "id": "802a2c60-d1e9-4e6a-870d-bc4c0b6c1c88",
   "metadata": {},
   "source": [
    "j. Find $d(u,w)$ <br>\n",
    "$= ||u - w||$ <br>\n",
    "$= \\sqrt{(1-2)^2 + (-2-1)^2 + (4+3)^2}$ <br>\n",
    "$= \\sqrt{(-1)^2 + (-3)^2 + (7)^2}$ <br>\n",
    "$= \\sqrt{1 + 9 + 49}$ <br>\n",
    "$= \\sqrt{59}$"
   ]
  },
  {
   "cell_type": "code",
   "execution_count": 32,
   "id": "cf8b5cee-b304-48d6-8029-4ca7920f3040",
   "metadata": {},
   "outputs": [
    {
     "name": "stdout",
     "output_type": "stream",
     "text": [
      "d(u,w):  7.681145747868608\n"
     ]
    }
   ],
   "source": [
    "print(\"d(u,w): \", np.linalg.norm(u-w))"
   ]
  },
  {
   "cell_type": "markdown",
   "id": "3f6bbc7f-f1b5-4a17-ae22-44a58aab1d0a",
   "metadata": {},
   "source": [
    "k. Find $proj(u,v)$ <br>\n",
    "$\\frac{u.v}{||v||^2} v $ <br>\n",
    "$u.v = -3$<br>\n",
    "$||v|| =\\sqrt{35}$<br>\n",
    "$\\frac{-3}{35}(3,5,1) $<br>\n",
    "$(\\frac{-9}{35}, \\frac{-15}{35}, \\frac{-3}{35})$ <br>"
   ]
  },
  {
   "cell_type": "code",
   "execution_count": 38,
   "id": "285baeca-2e68-4beb-b831-5e83acba9b44",
   "metadata": {},
   "outputs": [
    {
     "name": "stdout",
     "output_type": "stream",
     "text": [
      "proj(u,v):  [-0.25714286 -0.42857143 -0.08571429]\n",
      "proj(u,v):  [-0.2571428571428571, -0.42857142857142855, -0.08571428571428572]\n"
     ]
    }
   ],
   "source": [
    "print(\"proj(u,v): \", u.dot(v)*v / (np.linalg.norm(v)**2) )\n",
    "print(\"proj(u,v): \", [-9/35, -15/35, -3/35] )"
   ]
  },
  {
   "cell_type": "markdown",
   "id": "68264288-aa37-4e65-b2ee-0e2e4e889829",
   "metadata": {},
   "source": [
    "l. Find $proj(w,v)$ <br>\n",
    "$\\frac{w.v}{||v||^2} v $ <br>\n",
    "$w.v = 8$<br>\n",
    "$||v|| =\\sqrt{35}$<br>\n",
    "$\\frac{8}{35}(3,5,1) $<br>\n",
    "$(\\frac{24}{35}, \\frac{40}{35}, \\frac{8}{35})$ <br>"
   ]
  },
  {
   "cell_type": "code",
   "execution_count": 39,
   "id": "da86cdcc-d7f6-4b45-9e02-a2f0101eeea9",
   "metadata": {},
   "outputs": [
    {
     "name": "stdout",
     "output_type": "stream",
     "text": [
      "proj(w,v):  [0.68571429 1.14285714 0.22857143]\n",
      "proj(w,v):  [0.6857142857142857, 1.1428571428571428, 0.22857142857142856]\n"
     ]
    }
   ],
   "source": [
    "print(\"proj(w,v): \", w.dot(v)*v / (np.linalg.norm(v)**2) )\n",
    "print(\"proj(w,v): \", [24/35, 40/35, 8/35] )"
   ]
  },
  {
   "cell_type": "markdown",
   "id": "7f43ff79-74b2-4b00-b0f1-b7bff51f3576",
   "metadata": {},
   "source": [
    "m. Find $proj(u,w)$ <br>\n",
    "$\\frac{u.w}{||w||^2} v $ <br>\n",
    "$u.w = -12$<br>\n",
    "$||w|| =\\sqrt{14}$<br>\n",
    "$\\frac{-12}{14}(2,1,-3) $<br>\n",
    "$(\\frac{-24}{14}, \\frac{-12}{14}, \\frac{36}{14})$ <br>"
   ]
  },
  {
   "cell_type": "code",
   "execution_count": 40,
   "id": "1a725186-9ee5-41e2-97da-d1cf483595ff",
   "metadata": {},
   "outputs": [
    {
     "name": "stdout",
     "output_type": "stream",
     "text": [
      "proj(u,w):  [-1.71428571 -0.85714286  2.57142857]\n",
      "proj(w,v):  [-1.7142857142857142, -0.8571428571428571, 2.5714285714285716]\n"
     ]
    }
   ],
   "source": [
    "print(\"proj(u,w): \", u.dot(w)*w / (np.linalg.norm(w)**2) )\n",
    "print(\"proj(w,v): \", [-24/14, -12/14, 36/14] )"
   ]
  },
  {
   "cell_type": "markdown",
   "id": "b0cdd39e-a7e1-4bf1-81e7-af49f3ef2139",
   "metadata": {},
   "source": [
    "2. Repeat problem 1 with the following column vectors <br>\n",
    " u = $\\begin{bmatrix}          \n",
    "           1 \\\\\n",
    "           3 \\\\\n",
    "           -4\n",
    "           \\end{bmatrix}$\n",
    " v = $\\begin{bmatrix}\n",
    "           2 \\\\\n",
    "           1 \\\\\n",
    "           5\n",
    "           \\end{bmatrix}$\n",
    " w =  $\\begin{bmatrix}\n",
    "           3 \\\\\n",
    "           -2 \\\\\n",
    "           6\n",
    "           \\end{bmatrix}$"
   ]
  },
  {
   "cell_type": "markdown",
   "id": "b4362022-8ba0-4391-8cfc-b5738b6e1507",
   "metadata": {},
   "source": [
    "$a. 3u - 2v$ <br>\n",
    "$3\\begin{bmatrix}          \n",
    "           1 \\\\\n",
    "           3 \\\\\n",
    "           -4\n",
    "           \\end{bmatrix}$ -\n",
    "           $2\\begin{bmatrix}\n",
    "           2 \\\\\n",
    "           1 \\\\\n",
    "           5\n",
    "           \\end{bmatrix}$ <br>\n",
    "$\\begin{bmatrix}          \n",
    "           3 \\\\\n",
    "           9 \\\\\n",
    "           -12\n",
    "           \\end{bmatrix}$ -\n",
    "           $\\begin{bmatrix}\n",
    "           4 \\\\\n",
    "           2 \\\\\n",
    "           10\n",
    "           \\end{bmatrix}$ <br>  \n",
    " $\\begin{bmatrix}          \n",
    "           -1 \\\\\n",
    "           7\\\\\n",
    "           -22\n",
    "           \\end{bmatrix}$ \n",
    "                     \n",
    "           "
   ]
  },
  {
   "cell_type": "code",
   "execution_count": 41,
   "id": "156c4dd7-cc87-4efb-a8be-39f64630ce41",
   "metadata": {},
   "outputs": [
    {
     "name": "stdout",
     "output_type": "stream",
     "text": [
      "3u-2v:  [ -1   7 -22]\n"
     ]
    }
   ],
   "source": [
    "import numpy as np\n",
    "u = np.array([1,3,-4])\n",
    "v = np.array([2,1,5])\n",
    "w = np.array([3,-2,6])\n",
    "print(\"3u-2v: \", (3*u) - (2*v))\n"
   ]
  },
  {
   "cell_type": "markdown",
   "id": "adb5374f-2f61-4686-b586-5232fe274cbd",
   "metadata": {},
   "source": [
    "$b. 5u + 3v - 4w$ <br>\n",
    "$5\\begin{bmatrix}          \n",
    "           1 \\\\\n",
    "           3 \\\\\n",
    "           -4\n",
    "           \\end{bmatrix}$ +\n",
    "           $3\\begin{bmatrix}\n",
    "           2 \\\\\n",
    "           1 \\\\\n",
    "           5\n",
    "           \\end{bmatrix}$  +\n",
    "           $2\\begin{bmatrix}\n",
    "           3 \\\\\n",
    "           -2\\\\ \n",
    "           6\n",
    "           \\end{bmatrix}$<br>\n",
    "$\\begin{bmatrix}          \n",
    "           5 \\\\\n",
    "           15 \\\\\n",
    "           -20\n",
    "           \\end{bmatrix}$ +\n",
    "           $\\begin{bmatrix}\n",
    "           6 \\\\\n",
    "           3 \\\\\n",
    "           15\n",
    "           \\end{bmatrix}$ - \n",
    "           $\\begin{bmatrix}\n",
    "           12\\\\\n",
    "           -8\\\\\n",
    "           24\n",
    "           \\end{bmatrix} $<br>  \n",
    " $\\begin{bmatrix}          \n",
    "           -1 \\\\\n",
    "           26\\\\\n",
    "           -29\n",
    "           \\end{bmatrix}$ "
   ]
  },
  {
   "cell_type": "code",
   "execution_count": 42,
   "id": "c72cea75-077f-4c75-975a-d7d4a9f22ded",
   "metadata": {},
   "outputs": [
    {
     "name": "stdout",
     "output_type": "stream",
     "text": [
      "5u + 3v - 4w:  [ -1  26 -29]\n"
     ]
    }
   ],
   "source": [
    "print(\"5u + 3v - 4w: \", (5*u) + (3*v) - (4*w))"
   ]
  },
  {
   "cell_type": "markdown",
   "id": "d090d005-01a3-44c3-a087-a2cc70e6ce34",
   "metadata": {},
   "source": [
    "$c. u . v, v . w, u . w$<br>\n",
    "u . v = $\\begin{bmatrix}          \n",
    "           1 \\\\\n",
    "           3 \\\\\n",
    "           -4\n",
    "           \\end{bmatrix}$ +\n",
    "           $\\begin{bmatrix}\n",
    "           2 \\\\\n",
    "           1 \\\\\n",
    "           5\n",
    "           \\end{bmatrix}$ <br>\n",
    "$= -15$<br>\n",
    "v . w =  $\\begin{bmatrix}          \n",
    "           2 \\\\\n",
    "           1 \\\\\n",
    "           5\n",
    "           \\end{bmatrix}$ +\n",
    "           $\\begin{bmatrix}\n",
    "           3 \\\\\n",
    "           -2 \\\\\n",
    "           6\n",
    "           \\end{bmatrix}$ <br>\n",
    "$= 34$<br>\n",
    "u . w = $\\begin{bmatrix}          \n",
    "           1 \\\\\n",
    "           3 \\\\\n",
    "           -4\n",
    "           \\end{bmatrix}$ +\n",
    "           $\\begin{bmatrix}\n",
    "           3 \\\\\n",
    "           -2 \\\\\n",
    "           6\n",
    "           \\end{bmatrix}$ <br>\n",
    "$= -27$<br>"
   ]
  },
  {
   "cell_type": "code",
   "execution_count": 4,
   "id": "c609e32e-c27c-47b7-8bbd-4caaf1e4128c",
   "metadata": {},
   "outputs": [
    {
     "name": "stdout",
     "output_type": "stream",
     "text": [
      "u.v =  -15\n",
      "v.w =  34\n",
      "u.w =  -27\n"
     ]
    }
   ],
   "source": [
    "import numpy as np\n",
    "u = np.array([1,3,-4])\n",
    "v = np.array([2,1,5])\n",
    "w = np.array([3,-2,6])\n",
    "print(\"u.v = \", u.dot(v))\n",
    "print(\"v.w = \", v.dot(w))\n",
    "print(\"u.w = \", u.dot(w))"
   ]
  },
  {
   "cell_type": "markdown",
   "id": "457e2a1b-581b-4d4a-b5f1-2ff63f8b9cc1",
   "metadata": {},
   "source": [
    "$d. ||u||, ||v||, ||w||$ <br>\r\n",
    "$||u|| = \\sqrt{1^2 +3)^2 +(- )4^2}$ <br\n",
    "$= \\sqrt{1 + 9 + 16} $ <br>\n",
    "$= \\sqrt{26} $<br>\n",
    "$||v|| = \\sqrt{2^2 + 1^2 + 5^2}$ <br>\n",
    "$= \\sqrt{4 + 1 + 25}$ <br>\n",
    "$= \\sqrt{30}$ <br>\n",
    "$||w|| = \\sqrt{3^2 + (-2)^2 + 6^2}$<br>\n",
    "$= \\sqrt{9 + 4 + 36}$ <br>\n",
    "$= \\sqrt{49}$ <br>\n",
    "$= 7$ <br>14}$ <br>"
   ]
  },
  {
   "cell_type": "code",
   "execution_count": 5,
   "id": "272cc8d3-6475-4dc4-97d1-de172d3c4e7d",
   "metadata": {
    "scrolled": true
   },
   "outputs": [
    {
     "name": "stdout",
     "output_type": "stream",
     "text": [
      "||u|| =  5.0990195135927845\n",
      "||v|| =  5.477225575051661\n",
      "||w|| =  7.0\n"
     ]
    }
   ],
   "source": [
    "print(\"||u|| = \",np.sqrt(u.dot(u)))\n",
    "print(\"||v|| = \",np.sqrt(v.dot(v)))\n",
    "print(\"||w|| = \",np.sqrt(w.dot(w)))"
   ]
  },
  {
   "cell_type": "markdown",
   "id": "29fd2d05-24f6-45ec-8412-c5ffc706d4f6",
   "metadata": {},
   "source": [
    "e. $If {\\theta}$ is the angle between u and v, find $\\cos{\\theta}$  <br>\n",
    "$\\frac{\\textbf{u} \\cdotp \\textbf{v}}{||\\textbf{u}|| \\ ||\\textbf{v}||}$ <br>\n",
    "$= \\frac{-15}{/\\sqrt{26}\\sqrt{30}}$ <br>"
   ]
  },
  {
   "cell_type": "code",
   "execution_count": 6,
   "id": "f1d7d116-3eae-4b85-8b98-aaf18c7a7d88",
   "metadata": {},
   "outputs": [
    {
     "name": "stdout",
     "output_type": "stream",
     "text": [
      "angle:  -0.5370861555295747\n"
     ]
    }
   ],
   "source": [
    "print(\"angle: \", u.dot(v) / (np.linalg.norm(u) * np.linalg.norm(v)))"
   ]
  },
  {
   "cell_type": "markdown",
   "id": "0e1c16d6-591b-46d7-b15b-0961eba3ad75",
   "metadata": {},
   "source": [
    "f. If $\\alpha$ is the angle between v and w, find $\\cos{\\alpha}$ <br>\n",
    "$\\frac{\\textbf{v} \\cdotp \\textbf{w}}{||\\textbf{v}|| \\ ||\\textbf{w}||}$ <br>\n",
    "$= \\frac{34}{/\\sqrt{30}\\sqrt{49}}$ <br>\n",
    "$= \\frac{34}{7\\sqrt{30}}$ <br>"
   ]
  },
  {
   "cell_type": "code",
   "execution_count": 7,
   "id": "7b7dc90c-0346-4dfb-aa69-6bc03fb28a9f",
   "metadata": {},
   "outputs": [
    {
     "name": "stdout",
     "output_type": "stream",
     "text": [
      "angle:  0.8867889026274118\n"
     ]
    }
   ],
   "source": [
    "print(\"angle: \", v.dot(w) / (np.linalg.norm(v) * np.linalg.norm(w)))"
   ]
  },
  {
   "cell_type": "markdown",
   "id": "03a10021-6ffe-47c1-9b0c-81c037e4637b",
   "metadata": {},
   "source": [
    "g. If $\\beta$ is the angle between u and w, find $\\cos{\\beta}$ <br>\n",
    "$\\frac{\\textbf{u} \\cdotp \\textbf{w}}{||\\textbf{u}|| \\ ||\\textbf{w}||}$ <br>\n",
    "$= \\frac{-27}{/\\sqrt{26}\\sqrt{49}}$ <br>\n",
    "$= \\frac{-27}{7\\sqrt{26}}$ <br>"
   ]
  },
  {
   "cell_type": "code",
   "execution_count": 8,
   "id": "e62546cf-05c0-4e80-b663-4f66af550643",
   "metadata": {
    "scrolled": true
   },
   "outputs": [
    {
     "name": "stdout",
     "output_type": "stream",
     "text": [
      "angle:  -0.7564479498187099\n"
     ]
    }
   ],
   "source": [
    "print(\"angle: \", u.dot(w) / (np.linalg.norm(u) * np.linalg.norm(w)))"
   ]
  },
  {
   "cell_type": "markdown",
   "id": "84a4ac0a-881e-4c69-9171-6d6e53a0f68a",
   "metadata": {},
   "source": [
    "h. Find $d(u,v)$ <br>\n",
    "$= ||u - v||$ <br>\n",
    "$= \\sqrt{(1-2)^2 + (3-1)^2 + (-4-5)^2}$ <br>\n",
    "$= \\sqrt{(-1)^2 + (2)^2 + (-9)^2}$ <br>\n",
    "$= \\sqrt{1 + 4 + 81}$ <br>\n",
    "$= \\sqrt{86}$"
   ]
  },
  {
   "cell_type": "code",
   "execution_count": 9,
   "id": "44a849a5-8297-420c-ad5f-f5a6368cd38a",
   "metadata": {},
   "outputs": [
    {
     "name": "stdout",
     "output_type": "stream",
     "text": [
      "d(u,v):  9.273618495495704\n"
     ]
    }
   ],
   "source": [
    "print(\"d(u,v): \", np.linalg.norm(u-v))"
   ]
  },
  {
   "cell_type": "markdown",
   "id": "b12bf78e-360a-4a13-beaa-a622ce9e75ef",
   "metadata": {},
   "source": [
    "i. Find $d(w,v)$ <br>\n",
    "$= ||w - v||$ <br>\n",
    "$= \\sqrt{(3-2)^2 + (-2-1)^2 + (6-5)^2}$ <br>\n",
    "$= \\sqrt{(1)^2 + (-3)^2 + (1)^2}$ <br>\n",
    "$= \\sqrt{1 + 9 + 1}$ <br>\n",
    "$= \\sqrt{11}$"
   ]
  },
  {
   "cell_type": "code",
   "execution_count": 10,
   "id": "d4986dfb-a0f8-4caf-b5c7-ee544a878416",
   "metadata": {},
   "outputs": [
    {
     "name": "stdout",
     "output_type": "stream",
     "text": [
      "d(w,v):  3.3166247903554\n"
     ]
    }
   ],
   "source": [
    "print(\"d(w,v): \", np.linalg.norm(w-v))"
   ]
  },
  {
   "cell_type": "markdown",
   "id": "733346d5-4410-4349-b4f9-16cbde0262df",
   "metadata": {},
   "source": [
    "j. Find $d(u,w)$ <br>\n",
    "$= ||u - w||$ <br>\n",
    "$= \\sqrt{(1-3)^2 + (3+2)^2 + (-4-6)^2}$ <br>\n",
    "$= \\sqrt{(-2)^2 + 5^2 + (-10)^2}$ <br>\n",
    "$= \\sqrt{4 + 25 + 100}$ <br>\n",
    "$= \\sqrt{129}$"
   ]
  },
  {
   "cell_type": "code",
   "execution_count": 11,
   "id": "50e6d049-3b1e-415f-9933-3cc4870646ad",
   "metadata": {},
   "outputs": [
    {
     "name": "stdout",
     "output_type": "stream",
     "text": [
      "d(u,w):  11.357816691600547\n"
     ]
    }
   ],
   "source": [
    "print(\"d(u,w): \", np.linalg.norm(u-w))"
   ]
  },
  {
   "cell_type": "markdown",
   "id": "2be1a9ea-9d54-4197-a6dc-23f9c2a5f6d8",
   "metadata": {},
   "source": [
    "k. Find $proj(u,v)$ <br>\n",
    "$\\frac{u.v}{||v||^2} v $ <br>\n",
    "$u.v = -15$<br>\n",
    "$||v|| =\\sqrt{30}$<br>\n",
    "$\\frac{-15}{30}(2,1,5) $<br>\n",
    "$(\\frac{-30}{30}, \\frac{-15}{30}, \\frac{-75}{30})$ <br>"
   ]
  },
  {
   "cell_type": "code",
   "execution_count": 12,
   "id": "28513dab-3b43-498f-83c9-04c41203cd25",
   "metadata": {},
   "outputs": [
    {
     "name": "stdout",
     "output_type": "stream",
     "text": [
      "proj(u,v):  [-1.  -0.5 -2.5]\n",
      "proj(u,v):  [-1.0, -0.5, -2.5]\n"
     ]
    }
   ],
   "source": [
    "print(\"proj(u,v): \", u.dot(v)*v / (np.linalg.norm(v)**2) )\n",
    "print(\"proj(u,v): \", [-30/30, -15/30, -75/30] )"
   ]
  },
  {
   "cell_type": "markdown",
   "id": "1530f995-7d55-4b5a-9d98-8baa70ecfcb3",
   "metadata": {},
   "source": [
    "l. Find $proj(w,v)$ <br>\n",
    "$\\frac{w.v}{||v||^2} v $ <br>\n",
    "$w.v = 34$<br>\n",
    "$||v|| =\\sqrt{30}$<br>\n",
    "$\\frac{34}{30}(2,1,5) $<br>\n",
    "$(\\frac{68}{30}, \\frac{34}{30}, \\frac{170}{30})$ <br>"
   ]
  },
  {
   "cell_type": "code",
   "execution_count": 13,
   "id": "5c309026-18d8-424e-abb9-c95b5fb94c34",
   "metadata": {},
   "outputs": [
    {
     "name": "stdout",
     "output_type": "stream",
     "text": [
      "proj(w,v):  [2.26666667 1.13333333 5.66666667]\n",
      "proj(w,v):  [2.2666666666666666, 1.1333333333333333, 5.666666666666667]\n"
     ]
    }
   ],
   "source": [
    "print(\"proj(w,v): \", w.dot(v)*v / (np.linalg.norm(v)**2) )\n",
    "print(\"proj(w,v): \", [68/30, 34/30, 170/30] )"
   ]
  },
  {
   "cell_type": "markdown",
   "id": "a3b2f895-b5dc-485f-9683-a8566062cce0",
   "metadata": {},
   "source": [
    "m. Find $proj(u,w)$ <br>\n",
    "$\\frac{u.w}{||w||^2} w $ <br>\n",
    "$u.w = -27$<br>\n",
    "$||w|| =\\sqrt{49}$<br>\n",
    "$\\frac{-27}{49}(3,-2,6) $<br>\n",
    "$(\\frac{-81}{49}, \\frac{54}{49}, \\frac{-162}{49})$ <br>"
   ]
  },
  {
   "cell_type": "code",
   "execution_count": 14,
   "id": "46e9b4f0-99b8-4895-99fb-3c4cf7492a1c",
   "metadata": {},
   "outputs": [
    {
     "name": "stdout",
     "output_type": "stream",
     "text": [
      "proj(u,w):  [-1.65306122  1.10204082 -3.30612245]\n",
      "proj(w,v):  [-1.653061224489796, 1.1020408163265305, -3.306122448979592]\n"
     ]
    }
   ],
   "source": [
    "print(\"proj(u,w): \", u.dot(w)*w / (np.linalg.norm(w)**2) )\n",
    "print(\"proj(w,v): \", [-81/49, 54/49, -162/49] )"
   ]
  },
  {
   "cell_type": "markdown",
   "id": "74f7ce64-382e-4063-a820-556911b4449e",
   "metadata": {},
   "source": [
    "3. Let u = (2,-5,4,6-3) v = (5,-2,1,-7,-4) w = (2,1,-3)\r\n",
    " "
   ]
  },
  {
   "cell_type": "markdown",
   "id": "6136d9b6-0cf5-4421-917d-b15b435ddf1d",
   "metadata": {},
   "source": [
    "a. $Find 4u - 3v$ <br>\n",
    "$4[2,-,5,4,6,-3] - 3[5,-2,1,-7,-4]$ <br>\n",
    "$[8,-20,16,24,-12] - [15,-6,3,-21,-12]$ <br>\n",
    "$[-7,-14,13,45,0]$ <br>"
   ]
  },
  {
   "cell_type": "code",
   "execution_count": 29,
   "id": "d4a8aaa5-2d44-4006-9b00-bbe3f34e65fc",
   "metadata": {},
   "outputs": [
    {
     "name": "stdout",
     "output_type": "stream",
     "text": [
      "4u - 3v:  [ -7 -14  13  45   0]\n"
     ]
    }
   ],
   "source": [
    "u = np.array([2,-5,4,6,-3])\n",
    "v = np.array([5,-2,1,-7,-4])\n",
    "w = np.array([2,1,-3, 0,0])\n",
    "print(\"4u - 3v: \", (4*u) - (3*v))"
   ]
  },
  {
   "cell_type": "markdown",
   "id": "8bbc4a77-ddf0-41ce-9ffd-76431b8a9497",
   "metadata": {},
   "source": [
    "b. %5u + 2v -2w % <br>\n",
    "$5[2,-5,4,6,-3] + 2[5,-2,1,-7,-4] - 2[2,1,-3]$ <br>\n",
    "$[10,-25,20,30,-15] + [10,-4,2,-14,-8] - [4,2,-6]$ <br>\n",
    "$[16,-31,,28,16,-23]$ <br>"
   ]
  },
  {
   "cell_type": "code",
   "execution_count": 30,
   "id": "645209d4-a335-46a6-b197-75758d4d3545",
   "metadata": {},
   "outputs": [
    {
     "name": "stdout",
     "output_type": "stream",
     "text": [
      "5u + 2v - 2w:  [ 16 -31  28  16 -23]\n"
     ]
    }
   ],
   "source": [
    "u = np.array([2,-5,4,6,-3])\n",
    "v = np.array([5,-2,1,-7,-4])\n",
    "w = np.array([2,1,-3, 0,0])\n",
    "print(\"5u + 2v - 2w: \", (5*u) + (2*v) - (2*w))"
   ]
  },
  {
   "cell_type": "markdown",
   "id": "e9ca5617-ed5b-49aa-94d0-2dde6b8fdeb0",
   "metadata": {},
   "source": [
    "c. $Find u.v, v.w, u.w$ <br>\n",
    "$u.v = (2)(5) + (-5)(-2) + (4)(1) + (6)(-7) + (-3)(-4)$ <br>\n",
    "$= 10 + 10 + 4 - 42 + 12$ <br>\n",
    "$= -6$ <br>\n",
    "$v.w = (5)(2) + (-2)(1) + (1)(-3) + (-7)(0) + (-4)(0)$ <br>\n",
    "$= 10 - 2 - 3$ <br>\n",
    "$= 5$ <br>\n",
    "$u.w = (2)(2) + (-5)(1) + (4)(-3) + (6)(0) + (-3)(0)$ <br>\n",
    "$= 4 - 5 - 12$ <br>\n",
    "$= -13$ <br>"
   ]
  },
  {
   "cell_type": "code",
   "execution_count": 31,
   "id": "1a30b843-2639-4a0f-b422-391649a3b159",
   "metadata": {},
   "outputs": [
    {
     "name": "stdout",
     "output_type": "stream",
     "text": [
      "u.v =  -6\n",
      "v.w =  5\n",
      "u.w =  -13\n"
     ]
    }
   ],
   "source": [
    "print(\"u.v = \", u.dot(v))\n",
    "print(\"v.w = \", v.dot(w))\n",
    "print(\"u.w = \", u.dot(w))"
   ]
  },
  {
   "cell_type": "markdown",
   "id": "da0a195e-64a4-453a-89d2-4ad3c9dfe287",
   "metadata": {},
   "source": [
    "d. $||u||, ||v||, ||w||$ <br>\n",
    "$||u|| = \\sqrt{2^2 + (-5)^2 + 4^2 + 6^2 + (-3)^2}$ <br>\n",
    "$= \\sqrt{4 + 25 + 16 + 36 + 9}$ <br>\n",
    "$= \\sqrt{90}$ <br>\n",
    "$||v|| = \\sqrt{5^2 + (-2)^2 + 1^2 + (-7)^2 + (-4)^2}$ <br>\n",
    "$= \\sqrt{25 + 4 + 1 + 49 + 16}$ <br>\n",
    "$= \\sqrt{95}$ <br>\n",
    "$||w|| = \\sqrt{2^2 + 1^2 + (-3)^2}$<br>\n",
    "$= \\sqrt{4 + 1 + 9}$ <br>\n",
    "$= \\sqrt{14}$ <br>"
   ]
  },
  {
   "cell_type": "code",
   "execution_count": 32,
   "id": "fde09c12-9209-4342-9c2f-080b057c3d40",
   "metadata": {},
   "outputs": [
    {
     "name": "stdout",
     "output_type": "stream",
     "text": [
      "||u|| =  9.486832980505138\n",
      "||v|| =  9.746794344808963\n",
      "||w|| =  3.7416573867739413\n"
     ]
    }
   ],
   "source": [
    "print(\"||u|| = \",np.sqrt(u.dot(u)))\n",
    "print(\"||v|| = \",np.sqrt(v.dot(v)))\n",
    "print(\"||w|| = \",np.sqrt(w.dot(w)))"
   ]
  },
  {
   "cell_type": "markdown",
   "id": "d21c6b95-cb77-40f0-95f0-c7fa8120b44c",
   "metadata": {},
   "source": [
    "e. $If {\\theta}$ is the angle between u and v, find $\\cos{\\theta}$  <br>\n",
    "$\\frac{\\textbf{u} \\cdotp \\textbf{v}}{||\\textbf{u}|| \\ ||\\textbf{v}||}$ <br>\n",
    "$= \\frac{-6}{/\\sqrt{90}\\sqrt{95}}$ <br>"
   ]
  },
  {
   "cell_type": "code",
   "execution_count": 35,
   "id": "c76ea392-a4ce-49a2-b189-f3a146f55c48",
   "metadata": {},
   "outputs": [
    {
     "name": "stdout",
     "output_type": "stream",
     "text": [
      "angle:  -0.06488856845230502\n"
     ]
    }
   ],
   "source": [
    "print(\"angle: \", u.dot(v) / (np.linalg.norm(u) * np.linalg.norm(v)))"
   ]
  },
  {
   "cell_type": "markdown",
   "id": "30a97494-039c-4bd2-86c8-8e6758bc0314",
   "metadata": {},
   "source": [
    "f. If $\\alpha$ is the angle between v and w, find $\\cos{\\alpha}$ <br>\n",
    "$\\frac{\\textbf{v} \\cdotp \\textbf{w}}{||\\textbf{v}|| \\ ||\\textbf{w}||}$ <br>\n",
    "$= \\frac{5}{/\\sqrt{95}\\sqrt{14}}$ <br>"
   ]
  },
  {
   "cell_type": "code",
   "execution_count": 33,
   "id": "7fc3a435-6dda-4c41-91f9-7d729c736710",
   "metadata": {},
   "outputs": [
    {
     "name": "stdout",
     "output_type": "stream",
     "text": [
      "angle:  0.13710212427677046\n"
     ]
    }
   ],
   "source": [
    "print(\"angle: \", v.dot(w) / (np.linalg.norm(v) * np.linalg.norm(w)))"
   ]
  },
  {
   "cell_type": "markdown",
   "id": "27b17a98-9b81-4605-b77a-044acd35ccf3",
   "metadata": {},
   "source": [
    "g. If $\\beta$ is the angle between u and w, find $\\cos{\\beta}$ <br>\n",
    "$\\frac{\\textbf{u} \\cdotp \\textbf{w}}{||\\textbf{u}|| \\ ||\\textbf{w}||}$ <br>\n",
    "$= \\frac{-13}{/\\sqrt{90}\\sqrt{14}}$ <br>"
   ]
  },
  {
   "cell_type": "code",
   "execution_count": 34,
   "id": "eaa6fce8-fe76-4536-99e7-9480a5962170",
   "metadata": {},
   "outputs": [
    {
     "name": "stdout",
     "output_type": "stream",
     "text": [
      "angle:  -0.3662335103823572\n"
     ]
    }
   ],
   "source": [
    "print(\"angle: \", u.dot(w) / (np.linalg.norm(u) * np.linalg.norm(w)))"
   ]
  },
  {
   "cell_type": "markdown",
   "id": "285a604e-86e0-48a4-962f-883765c6d5a9",
   "metadata": {},
   "source": [
    "h. Find $d(u,v)$ <br>\n",
    "$= ||u - v||$ <br>\n",
    "$= \\sqrt{(2-5)^2 + (-5+2)^2 + (4-1)^2 + (6+7)^2 + (-3+4)^2}$ <br>\n",
    "$= \\sqrt{(-3)^2 + (-3)^2 + (3)^2 + (13)^2 + (1)^2}$ <br>\n",
    "$= \\sqrt{9 + 9 + 9 + 169 + 1}$ <br>\n",
    "$= \\sqrt{197}$"
   ]
  },
  {
   "cell_type": "code",
   "execution_count": 36,
   "id": "c6d6ccf6-22d1-44da-8e0e-20cedfc376d7",
   "metadata": {},
   "outputs": [
    {
     "name": "stdout",
     "output_type": "stream",
     "text": [
      "d(u,v):  14.035668847618199\n"
     ]
    }
   ],
   "source": [
    "print(\"d(u,v): \", np.linalg.norm(u-v))"
   ]
  },
  {
   "cell_type": "markdown",
   "id": "29890c26-3912-4c26-8b18-29d3b87bc91b",
   "metadata": {},
   "source": [
    "i. Find $d(w,v)$ <br>\n",
    "$= ||w - v||$ <br>\n",
    "$= \\sqrt{(2-5)^2 + (1+2)^2 + (-3-1)^2 + (0+7)^2 + (0+4)^2}$ <br>\n",
    "$= \\sqrt{(-3)^2 + (3)^2 + (-4)^2 + 7^2 + 4^2}$ <br>\n",
    "$= \\sqrt{9 + 9 + 16 + 49 + 16}$ <br>\n",
    "$= \\sqrt{99}$"
   ]
  },
  {
   "cell_type": "code",
   "execution_count": 37,
   "id": "3c6e1773-25e6-4446-b82e-10f60b96d035",
   "metadata": {},
   "outputs": [
    {
     "name": "stdout",
     "output_type": "stream",
     "text": [
      "d(w,v):  9.9498743710662\n"
     ]
    }
   ],
   "source": [
    "print(\"d(w,v): \", np.linalg.norm(w-v))"
   ]
  },
  {
   "cell_type": "markdown",
   "id": "3e08e90c-fc0e-49f5-ae54-5e7ade13520f",
   "metadata": {},
   "source": [
    "j. Find $d(u,w)$ <br>\n",
    "$= ||u - w||$ <br>\n",
    "$= \\sqrt{(2-2)^2 + (-5-1)^2 + (4+3)^2 + (6-0)^2 + (-3-0)^2}$ <br>\n",
    "$= \\sqrt{(0)^2 + (-6)^2 + (7)^2 + 6^2 + (-3)^2}$ <br>\n",
    "$= \\sqrt{0 + 36 + 49 + 36 + 9}$ <br>\n",
    "$= \\sqrt{130}$"
   ]
  },
  {
   "cell_type": "code",
   "execution_count": 38,
   "id": "dbd6b829-e1ce-46db-b714-679e45771870",
   "metadata": {},
   "outputs": [
    {
     "name": "stdout",
     "output_type": "stream",
     "text": [
      "d(u,w):  11.40175425099138\n"
     ]
    }
   ],
   "source": [
    "print(\"d(u,w): \", np.linalg.norm(u-w))"
   ]
  },
  {
   "cell_type": "markdown",
   "id": "bc386afb-9c5a-4667-96f0-7770387c8c2e",
   "metadata": {},
   "source": [
    "k. Find $proj(u,v)$ <br>\n",
    "$\\frac{u.v}{||v||^2} v $ <br>\n",
    "$u.v = -6$<br>\n",
    "$||v|| =\\sqrt{95}$<br>\n",
    "$\\frac{-6}{95}(5,-2,1,-7,-4) $<br>\n",
    "$(\\frac{-30}{95}, \\frac{12}{95}, \\frac{-6}{95}, \\frac{42}{95}, \\frac{24}{95})$ <br>"
   ]
  },
  {
   "cell_type": "code",
   "execution_count": 39,
   "id": "c898874b-0c98-4bcf-810f-60a5c4724812",
   "metadata": {},
   "outputs": [
    {
     "name": "stdout",
     "output_type": "stream",
     "text": [
      "proj(u,v):  [-0.31578947  0.12631579 -0.06315789  0.44210526  0.25263158]\n",
      "proj(u,v):  [-0.3157894736842105, 0.12631578947368421, -0.06315789473684211, 0.4421052631578947, 0.25263157894736843]\n"
     ]
    }
   ],
   "source": [
    "print(\"proj(u,v): \", u.dot(v)*v / (np.linalg.norm(v)**2) )\n",
    "print(\"proj(u,v): \", [-30/95, 12/95, -6/95, 42/95, 24/95] )"
   ]
  },
  {
   "cell_type": "markdown",
   "id": "51ea29b3-9cd2-4d88-8ecd-a04984236909",
   "metadata": {},
   "source": [
    "l. Find $proj(w,v)$ <br>\n",
    "$\\frac{w.v}{||v||^2} v $ <br>\n",
    "$w.v = 5$<br>\n",
    "$||v|| =\\sqrt{95}$<br>\n",
    "$\\frac{5}{95}(5,-2,1,-7,-4) $<br>\n",
    "$(\\frac{25}{95}, \\frac{-10}{95}, \\frac{5}{95}, \\frac{-35}{95}, \\frac{-20}{95})$ <br>"
   ]
  },
  {
   "cell_type": "code",
   "execution_count": 40,
   "id": "1e2b62a2-241f-44b9-863f-1c781c523c6e",
   "metadata": {},
   "outputs": [
    {
     "name": "stdout",
     "output_type": "stream",
     "text": [
      "proj(w,v):  [ 0.26315789 -0.10526316  0.05263158 -0.36842105 -0.21052632]\n",
      "proj(w,v):  [0.2631578947368421, -0.10526315789473684, 0.05263157894736842, -0.3684210526315789, -0.21052631578947367]\n"
     ]
    }
   ],
   "source": [
    "print(\"proj(w,v): \", w.dot(v)*v / (np.linalg.norm(v)**2) )\n",
    "print(\"proj(w,v): \", [25/95, -10/95, 5/95, -35/95, -20/95] )"
   ]
  },
  {
   "cell_type": "markdown",
   "id": "3e9cd0ae-aba8-4ed1-a944-a214d03448be",
   "metadata": {},
   "source": [
    "m. Find $proj(u,w)$ <br>\n",
    "$\\frac{u.w}{||w||^2} w $ <br>\n",
    "$u.w = -13$<br>\n",
    "$||w|| =\\sqrt{14}$<br>\n",
    "$\\frac{-13}{14}(2,1,-3) $<br>\n",
    "$(\\frac{-26}{14}, \\frac{-13}{14}, \\frac{39}{14})$ <br>"
   ]
  },
  {
   "cell_type": "code",
   "execution_count": 41,
   "id": "4ed59c2b-e40b-40d8-afbd-e40aed66a8db",
   "metadata": {},
   "outputs": [
    {
     "name": "stdout",
     "output_type": "stream",
     "text": [
      "proj(u,w):  [-1.85714286 -0.92857143  2.78571429  0.          0.        ]\n",
      "proj(w,v):  [-1.8571428571428572, -0.9285714285714286, 2.7857142857142856]\n"
     ]
    }
   ],
   "source": [
    "print(\"proj(u,w): \", u.dot(w)*w / (np.linalg.norm(w)**2) )\n",
    "print(\"proj(w,v): \", [-26/14, -13/14, 39/14] )"
   ]
  },
  {
   "cell_type": "markdown",
   "id": "95ca3816-6c71-4125-9677-20b83b15dd32",
   "metadata": {},
   "source": [
    "4. Normalize each vector"
   ]
  },
  {
   "cell_type": "markdown",
   "id": "354092ec-48d6-43f1-beaf-fb8ef635ad01",
   "metadata": {},
   "source": [
    "a. $u = (5,7)$ <br>\n",
    "$u' = \\frac{u}{||u||}$ <br>\n",
    "$||u||= \\sqrt{5^2 + (-7)^2}$ <br>\n",
    "$= \\sqrt{25 + 49}$ <br>\n",
    "$= \\sqrt{74}$ <br>\n",
    "$u' = (\\frac{5}{\\sqrt{74}}, \\frac{-7}{\\sqrt{74}})$ <br>"
   ]
  },
  {
   "cell_type": "code",
   "execution_count": 15,
   "id": "1de7ca01-9a94-4e64-9e95-3e1b804c0672",
   "metadata": {},
   "outputs": [
    {
     "name": "stdout",
     "output_type": "stream",
     "text": [
      "u':  [0.58123819 0.81373347]\n"
     ]
    }
   ],
   "source": [
    "u = np.array([5,7])\n",
    "print(\"u': \", u/np.sqrt(u.dot(u)))"
   ]
  },
  {
   "cell_type": "markdown",
   "id": "b9e89dfc-2525-4c21-87df-a52c9c657572",
   "metadata": {},
   "source": [
    "b. $v = (1,2,-2,4)$ <br>\n",
    "$v' = \\frac{v}{||v||}$ <br>\n",
    "$||v||= \\sqrt{1^2 + 2^2 + (-2)^2 + 4^2}$ <br>\n",
    "$= \\sqrt{1 + 4 + 4 + 16}$ <br>\n",
    "$= \\sqrt{25}$ <br>\n",
    "$= 5$ <br>\n",
    "$v' = (\\frac{1}{5}, \\frac{2}{5}, \\frac{-2}{5}, \\frac{4}{5})$ <br>"
   ]
  },
  {
   "cell_type": "code",
   "execution_count": 16,
   "id": "4c00df3b-ea71-423e-8aba-f8d3cbb7661f",
   "metadata": {},
   "outputs": [
    {
     "name": "stdout",
     "output_type": "stream",
     "text": [
      "v':  [ 0.2  0.4 -0.4  0.8]\n"
     ]
    }
   ],
   "source": [
    "v = np.array([1,2,-2,4])\n",
    "print(\"v': \", v/np.sqrt(v.dot(v)))"
   ]
  },
  {
   "cell_type": "markdown",
   "id": "3c89046f-2327-4438-8405-0d83df9a8acf",
   "metadata": {},
   "source": [
    "c. $w = (\\frac{1}{2}, \\frac{-1}{3}, \\frac{3}{4})$ <br>\r\n",
    "$w' = \\frac{w}{||w||}$ <br>\r\n",
    "$||w||= \\sqrt{(\\frac{1}{2})^2 + (\\frac{-1}{3})^2 + (\\frac{3}{4})^2}$ <br>\r\n",
    "$= \\sqrt{\\frac{1}{4} + \\frac{1}{9} + \\frac{9}{16}}$ <br>\r\n",
    "$= \\sqrt{\\frac{133}{144}}$ <br>\r\n",
    "$= \\frac{\\sqrt{133}}{12}$ <br>\r\n",
    "$w' = (\\frac{6\\sqrt{133}}{133}, -\\frac{4\\sqrt{133}}{133}, \\frac{9\\sqrt{133}}{133})$ <br>"
   ]
  },
  {
   "cell_type": "code",
   "execution_count": 17,
   "id": "efe6e2d3-bc53-4fdb-b7e7-6ac0f8b82263",
   "metadata": {},
   "outputs": [
    {
     "name": "stdout",
     "output_type": "stream",
     "text": [
      "w':  [ 0.52026598 -0.34684399  0.78039897]\n"
     ]
    }
   ],
   "source": [
    "w = np.array([1/2, -1/3, 3/4])\n",
    "print(\"w': \", w/np.sqrt(w.dot(w)))"
   ]
  },
  {
   "cell_type": "markdown",
   "id": "a9afb599-09ce-4cd2-97f8-9b5579afd08c",
   "metadata": {},
   "source": [
    "$5.$ Let $\\textbf{u} = (1,2,-2)$,$\\textbf{v} = (3,-12,4)$ and a scalar $k = -3$: <br>\r\n",
    "Find $||u||, ||v||, ||u+v||, ||ku||$.<br>"
   ]
  },
  {
   "cell_type": "markdown",
   "id": "01b45924-a8ff-48e0-ab0f-dfb6e4d9714b",
   "metadata": {},
   "source": [
    "$||u|| = \\sqrt{1^2 + 2^2 + (-2)^2}$ <br>\r\n",
    "$= \\sqrt{1 + 4 + 4} $ <br>\r\n",
    "$= \\sqrt{9} $<br>\r\n",
    "$= 3$<br>"
   ]
  },
  {
   "cell_type": "code",
   "execution_count": 18,
   "id": "a8bcc1d3-6497-4c14-9cad-a0a06baefd2e",
   "metadata": {},
   "outputs": [
    {
     "name": "stdout",
     "output_type": "stream",
     "text": [
      "||u|| =  3.0\n"
     ]
    }
   ],
   "source": [
    "u = np.array([1,2,-2])\n",
    "v = np.array([3,-12,4])\n",
    "k = -3\n",
    "print(\"||u|| = \",np.sqrt(u.dot(u)))"
   ]
  },
  {
   "cell_type": "markdown",
   "id": "716f8ed1-a4ed-48b6-8435-e93eda52adf2",
   "metadata": {},
   "source": [
    "$||v|| = \\sqrt{3^2 + -12^2 + 4^2}$ <br>\r\n",
    "$= \\sqrt{9 + 144 + 16}$ <br>\r\n",
    "$= \\sqrt{169}$ <br>\r\n",
    "$= 13$<br>"
   ]
  },
  {
   "cell_type": "code",
   "execution_count": null,
   "id": "02d15518-9b3c-4ba1-9746-5577245cdaf5",
   "metadata": {},
   "outputs": [],
   "source": [
    "print(\"||v|| = \",np.sqrt(v.dot(v)))"
   ]
  },
  {
   "cell_type": "markdown",
   "id": "8a7b0806-867e-47d3-9d2a-960bc6ef0638",
   "metadata": {},
   "source": [
    "$||u+v|| = \\sqrt{(1+3)^2 + (2-12)^2 + (-2+4)^2}$ <br>\r\n",
    "$= \\sqrt{4^2 + -10^2 + 2^2}$\r\n",
    "$= \\sqrt{16 + 100 + 4} $<br>\r\n",
    "$= \\sqrt{120}$<br>"
   ]
  },
  {
   "cell_type": "code",
   "execution_count": 19,
   "id": "f488ec9e-2bc2-4028-b0ad-135653453a12",
   "metadata": {},
   "outputs": [
    {
     "name": "stdout",
     "output_type": "stream",
     "text": [
      "||u+v|| =  10.954451150103322\n"
     ]
    }
   ],
   "source": [
    "print(\"||u+v|| = \", np.linalg.norm(u+v))"
   ]
  },
  {
   "cell_type": "markdown",
   "id": "b8d39673-8fe9-4c22-887a-2d3d1208e206",
   "metadata": {},
   "source": [
    "$||ku|| = |-3| \\cdotp ||u||$ <br>\r\n",
    "$= 3 \\cdotp 3$ <br>\r\n",
    "$= 9 $"
   ]
  },
  {
   "cell_type": "code",
   "execution_count": 20,
   "id": "d13c009c-445c-47a9-ba9b-700ba694148a",
   "metadata": {},
   "outputs": [
    {
     "name": "stdout",
     "output_type": "stream",
     "text": [
      "||ku|| =  9.0\n"
     ]
    }
   ],
   "source": [
    "print(\"||ku|| = \", np.linalg.norm(k*u))"
   ]
  },
  {
   "cell_type": "markdown",
   "id": "4e604265-0680-4c5a-b75a-7d3db51987e3",
   "metadata": {},
   "source": [
    "6. Find k so that u and v are orthogonal"
   ]
  },
  {
   "cell_type": "markdown",
   "id": "017f60c9-d994-496e-8f7e-7f9dcbe6eeb0",
   "metadata": {},
   "source": [
    "$a. u = (3,k,-2) v = (6,-4,-3)$ <br>\n",
    "$= 3(6) + k(-4) + (-2)(-3) = 0$ <br>\n",
    "$= 18 - 4k + 6 = 0$ <br>\n",
    "$= 18 + 6 = 4k$ <br>\n",
    "$= 24 = 4k$ <br>\n",
    "$k = 6$ <br>"
   ]
  },
  {
   "cell_type": "code",
   "execution_count": 21,
   "id": "53aac52c-d3c8-48f9-a578-125177b9eb00",
   "metadata": {},
   "outputs": [
    {
     "name": "stdout",
     "output_type": "stream",
     "text": [
      "Dot product if k = 6:  0.0\n"
     ]
    }
   ],
   "source": [
    "k = 6\n",
    "u = np.array([3, k, -2])\n",
    "v = np.array([6, -4, -3])\n",
    "dot_product = np.dot(u, v) / np.dot(u, u)\n",
    "print(\"Dot product if k = 6: \", dot_product)"
   ]
  },
  {
   "cell_type": "markdown",
   "id": "b559eadd-5cd3-43e6-9f2c-64fdfb81fe9e",
   "metadata": {},
   "source": [
    "$b. u = (5,k,-4,2) v = (1,-3,2,2k)$ <br>\n",
    "$= 5(1) + k(-3) + (-4)(2) + 2(2k) = 0$ <br>\n",
    "$= 5 -3k - 8 + 4k = 0$ <br>\n",
    "$= -3k + 4k = -5 + 8$ <br>\n",
    "$k = 3$ <br>"
   ]
  },
  {
   "cell_type": "code",
   "execution_count": 22,
   "id": "e9166fab-d717-481f-b1c2-977718581968",
   "metadata": {},
   "outputs": [
    {
     "name": "stdout",
     "output_type": "stream",
     "text": [
      "Dot product if k = 3:  0.0\n"
     ]
    }
   ],
   "source": [
    "k = 3\n",
    "u = np.array([5, k, -4, 2])\n",
    "v = np.array([1, -3, 2, 2*k])\n",
    "dot_product = np.dot(u, v) / np.dot(u, u)\n",
    "print(\"Dot product if k = 3: \", dot_product)"
   ]
  },
  {
   "cell_type": "markdown",
   "id": "c1bd11c8-8251-4a30-8b50-074af4d60b1a",
   "metadata": {},
   "source": [
    "$c. u = (1,7,k+2, -2) v = (3,k,-3,k)$ <br>\n",
    "$= 1(3) + 7(k) + (k+2)(-3) + (-2)(k) = 0$ <br>\n",
    "$= 3 + 7k - 3k - 6 - 2k = 0$ <br>\n",
    "$= 7k - 3k - 2k = -3 + 6$ <br>\n",
    "$2k = 3$ <br>\n",
    "$k = \\frac{3}{2}$ <br>"
   ]
  },
  {
   "cell_type": "code",
   "execution_count": 23,
   "id": "e3f811f4-1580-44ed-aafa-ec68d098844a",
   "metadata": {},
   "outputs": [
    {
     "name": "stdout",
     "output_type": "stream",
     "text": [
      "Dot product if k = 3/2:  0.0\n"
     ]
    }
   ],
   "source": [
    "k = 3/2\n",
    "u = np.array([1, 7, k+2, -2])\n",
    "v = np.array([3, k, -3, k])\n",
    "dot_product = np.dot(u, v) / np.dot(u, u)\n",
    "print(\"Dot product if k = 3/2: \", dot_product)"
   ]
  }
 ],
 "metadata": {
  "kernelspec": {
   "display_name": "Python 3 (ipykernel)",
   "language": "python",
   "name": "python3"
  },
  "language_info": {
   "codemirror_mode": {
    "name": "ipython",
    "version": 3
   },
   "file_extension": ".py",
   "mimetype": "text/x-python",
   "name": "python",
   "nbconvert_exporter": "python",
   "pygments_lexer": "ipython3",
   "version": "3.11.5"
  }
 },
 "nbformat": 4,
 "nbformat_minor": 5
}
